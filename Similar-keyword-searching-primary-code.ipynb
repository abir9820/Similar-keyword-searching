{
 "cells": [
  {
   "cell_type": "code",
   "execution_count": 2,
   "id": "e913cdf1",
   "metadata": {},
   "outputs": [
    {
     "name": "stdout",
     "output_type": "stream",
     "text": [
      "[('Geeks', 5), ('to', 4), ('and', 4), ('for', 3)]\n"
     ]
    }
   ],
   "source": [
    "# Python program to find the k most frequent words\n",
    "# from data set\n",
    "from collections import Counter\n",
    "  \n",
    "data_set = \"Welcome to the world of Geeks \" \\\n",
    "\"This portal has been created to provide well written well\" \\\n",
    "\"thought and well explained solutions for selected questions \" \\\n",
    "\"If you like Geeks for Geeks and would like to contribute \" \\\n",
    "\"here is your chance You can write article and mail your article \" \\\n",
    "\" to contribute at geeksforgeeks org See your article appearing on \" \\\n",
    "\"the Geeks for Geeks main page and help thousands of other Geeks. \" \\\n",
    "  \n",
    "# split() returns list of all the words in the string\n",
    "split_it = data_set.split()\n",
    "  \n",
    "# Pass the split_it list to instance of Counter class.\n",
    "Counter = Counter(split_it)\n",
    "  \n",
    "# most_common() produces k frequently encountered\n",
    "# input values and their respective counts.\n",
    "most_occur = Counter.most_common(4)\n",
    "  \n",
    "print(most_occur)"
   ]
  },
  {
   "cell_type": "code",
   "execution_count": null,
   "id": "e5ff7a1f",
   "metadata": {},
   "outputs": [],
   "source": []
  }
 ],
 "metadata": {
  "kernelspec": {
   "display_name": "Python 3 (ipykernel)",
   "language": "python",
   "name": "python3"
  },
  "language_info": {
   "codemirror_mode": {
    "name": "ipython",
    "version": 3
   },
   "file_extension": ".py",
   "mimetype": "text/x-python",
   "name": "python",
   "nbconvert_exporter": "python",
   "pygments_lexer": "ipython3",
   "version": "3.9.13"
  }
 },
 "nbformat": 4,
 "nbformat_minor": 5
}
